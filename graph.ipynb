import matplotlib.pyplot as plt 
import pandas as pd
fig = plt.figure(figsize=(10,10))
ax1 = fig.add_subplot()
x1 = [9467,12343,16334,7896,14223,10221,13765,10562,2736,7036,20653,9978,3084,3827]
x2 = [312,334,387,231,336,342,432,304,312,456,333,294,294,306]
x3 = [9155,12009,15947,7665,13887,9879,13333,10258,2424,6580,20320,9684,2790,3521]
l1 = ax1.plot(x1,'bo-',label='Without Purning')
l2 = ax1.plot(x2,'ro-',label='With Purning')
l3 = ax1.plot(x3,'co:',label="Effective No. of Nodes")
plt.xlabel("Points")
plt.ylabel("No. of Nodes")
plt.legend()
